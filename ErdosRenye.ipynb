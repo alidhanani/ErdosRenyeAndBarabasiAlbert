{
 "cells": [
  {
   "cell_type": "markdown",
   "metadata": {},
   "source": [
    "# Erdos Renyi Graph"
   ]
  },
  {
   "cell_type": "code",
   "execution_count": 1,
   "metadata": {},
   "outputs": [],
   "source": [
    "import networkx\n",
    "import matplotlib.pyplot as plt\n",
    "import numpy as np\n",
    "import pandas as pd\n",
    "import scipy.stats \n",
    "import random\n",
    "import time\n",
    "import scipy.stats as stats"
   ]
  },
  {
   "cell_type": "code",
   "execution_count": 7,
   "metadata": {},
   "outputs": [],
   "source": [
    "def erdos_renyi(n,average_degree):\n",
    "    k = int((average_degree*n)/2) # generation of k values\n",
    "    nodes =  np.arange(1,n,dtype=np.int64) # rearrange of the code\n",
    "    g = networkx.empty_graph(n) # making empty graph of n nodes\n",
    "    \n",
    "    # the limit of the code to the k value\n",
    "    for i in range(0, k):\n",
    "        (node_i, node_j) = np.random.choice(nodes, 2, replace=False) # choose 2 random nodes\n",
    "        # The idea is to check if there already exist edge between the nodes\n",
    "        while(g.has_edge(node_i,node_j)):\n",
    "            (node_i, node_j) = np.random.choice(nodes, 2, replace=False)\n",
    "        # once the node is found without the edge, we make the edge between them\n",
    "        g.add_edge(node_i,node_j)\n",
    "\n",
    "    return g"
   ]
  },
  {
   "cell_type": "markdown",
   "metadata": {},
   "source": [
    "# Distribution fit"
   ]
  },
  {
   "cell_type": "code",
   "execution_count": 15,
   "metadata": {},
   "outputs": [
    {
     "name": "stdout",
     "output_type": "stream",
     "text": [
      "Mean is:  5.0\n",
      "Standar deviation is:  2.2325542389476194\n"
     ]
    },
    {
     "data": {
      "image/png": "[encoded data removed]",
      "text/plain": [
       "<Figure size 432x288 with 1 Axes>"
      ]
     },
     "metadata": {
      "needs_background": "light"
     },
     "output_type": "display_data"
    }
   ],
   "source": [
    "g = erdos_renyi(10000,5) # making 10000 records with degree 5\n",
    "pd_deg = pd.DataFrame(g.degree(), columns=['Node', 'Degree'])\n",
    "degreeSort = sorted(pd_deg['Degree'],reverse=True)\n",
    "print(\"Mean is: \",pd_deg['Degree'].mean())\n",
    "print(\"Standar deviation is: \",pd_deg['Degree'].std())\n",
    "normalFit = stats.norm.pdf(degreeSort, pd_deg['Degree'].mean(), pd_deg['Degree'].std())\n",
    "plt.plot(degreeSort,normalFit,'-o',color='b')\n",
    "plt.xlabel('Degree')\n",
    "plt.ylabel('Frequency')\n",
    "plt.show()"
   ]
  },
  {
   "cell_type": "code",
   "execution_count": null,
   "metadata": {},
   "outputs": [],
   "source": []
  }
 ],
 "metadata": {
  "kernelspec": {
   "display_name": "Python 3",
   "language": "python",
   "name": "python3"
  },
  "language_info": {
   "codemirror_mode": {
    "name": "ipython",
    "version": 3
   },
   "file_extension": ".py",
   "mimetype": "text/x-python",
   "name": "python",
   "nbconvert_exporter": "python",
   "pygments_lexer": "ipython3",
   "version": "3.7.7"
  }
 },
 "nbformat": 4,
 "nbformat_minor": 2
}
